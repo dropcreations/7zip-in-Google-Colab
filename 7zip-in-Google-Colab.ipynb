{
  "nbformat": 4,
  "nbformat_minor": 0,
  "metadata": {
    "colab": {
      "provenance": [],
      "authorship_tag": "ABX9TyOyLqS2RLWjPGtGOc7vv+XV",
      "include_colab_link": true
    },
    "kernelspec": {
      "name": "python3",
      "display_name": "Python 3"
    },
    "language_info": {
      "name": "python"
    }
  },
  "cells": [
    {
      "cell_type": "markdown",
      "metadata": {
        "id": "view-in-github",
        "colab_type": "text"
      },
      "source": [
        "<a href=\"https://colab.research.google.com/github/dropcreations/7zip-in-Google-Colab/blob/main/7zip-in-Google-Colab.ipynb\" target=\"_parent\"><img src=\"https://colab.research.google.com/assets/colab-badge.svg\" alt=\"Open In Colab\"/></a>"
      ]
    },
    {
      "cell_type": "markdown",
      "source": [
        "# __Mount Google Drive__"
      ],
      "metadata": {
        "id": "3y6fjbgkDAYK"
      }
    },
    {
      "cell_type": "code",
      "source": [
        "#@markdown <br><center><img src='https://raw.githubusercontent.com/dropcreations/7zip-in-Google-Colab/29c3d6a967140776186a361186e91c35bf424398/assets/google_drive_logo.svg' height=\"60\" alt=\"Gdrive-logo\"/></center>\n",
        "#@markdown <center><h3><b>Mount Google Drive</b></h3></center><br>\n",
        "\n",
        "from google.colab import drive\n",
        "\n",
        "mode = \"Mount\" #@param [\"Mount\", \"Unmount\"]\n",
        "drive.mount._DEBUG = False\n",
        "\n",
        "if mode == \"Mount\":\n",
        "    drive.mount('/content/drive', force_remount=True)\n",
        "elif mode == \"Unmount\":\n",
        "    try: drive.flush_and_unmount()\n",
        "    except ValueError: pass\n",
        "    !rm -rf /root/.config/Google/DriveFS"
      ],
      "metadata": {
        "cellView": "form",
        "id": "16mRq2bZDEzf"
      },
      "execution_count": null,
      "outputs": []
    },
    {
      "cell_type": "markdown",
      "source": [
        "# __7-Zip__"
      ],
      "metadata": {
        "id": "qjtmglI0-bmq"
      }
    },
    {
      "cell_type": "markdown",
      "source": [
        "* Run below cell to **Install 7Zip** to the runtime"
      ],
      "metadata": {
        "id": "XXNVVoSP-gOx"
      }
    },
    {
      "cell_type": "code",
      "execution_count": null,
      "metadata": {
        "cellView": "form",
        "id": "IdV91t39-R4x"
      },
      "outputs": [],
      "source": [
        "#@markdown <br><center><img src='https://raw.githubusercontent.com/dropcreations/7zip-in-Google-Colab/main/assets/7-zip-Logo.png' height=\"50\" alt=\"7zip-logo\"/></center>\n",
        "#@markdown <center><h3><b>Install 7-Zip</b></h3></center><br>\n",
        "\n",
        "from IPython.display import clear_output\n",
        "\n",
        "!sudo curl -L https://www.7-zip.org/a/7z2301-linux-x64.tar.xz -o /usr/local/bin/7zip.tar.xz\n",
        "%cd /usr/local/bin/\n",
        "!7z e -y /usr/local/bin/7zip.tar.xz\n",
        "!7z x -y /usr/local/bin/7zip.tar 7zz\n",
        "!rm /usr/local/bin/7zip.tar.xz\n",
        "!rm /usr/local/bin/7zip.tar\n",
        "!sudo chmod +x /usr/local/bin/7zz\n",
        "clear_output()\n",
        "!7zz | sed -n 2p"
      ]
    },
    {
      "cell_type": "markdown",
      "source": [
        "### __Compress Files and Folders__"
      ],
      "metadata": {
        "id": "nYacWWj3-6_Y"
      }
    },
    {
      "cell_type": "markdown",
      "source": [
        "* Create **zip, tar, 7z, gz, bz2, xz, wim** files.\n",
        "* If you want you can add **password** or **split** the archive.\n",
        "* If you want to save archive in **another** location **uncheck** `saveToSourceLocation`."
      ],
      "metadata": {
        "id": "kbpon-Z_-9c5"
      }
    },
    {
      "cell_type": "code",
      "source": [
        "import os\n",
        "\n",
        "sourcePath = \"\" #@param {type:\"string\"}\n",
        "compressType = \"zip\" #@param [\"zip\", \"7z\", \"tar\", \"gzip\", \"bzip2\", \"xz\", \"wim\"]\n",
        "Password = \"\" #@param {type:\"string\"}\n",
        "Split = \"no\" #@param [\"no\", \"10m\", \"100m\", \"500m\", \"1g\", \"2g\"] {allow-input: true}\n",
        "compressLevel = 9 #@param {type:\"slider\", min:0, max:9, step:1}\n",
        "saveToSourceLocation = True #@param {type:\"boolean\"}\n",
        "\n",
        "commandLine = \"-t\" + compressType + \" -mx=\" + str(compressLevel)\n",
        "\n",
        "if len(Password) > 0:\n",
        "    commandLine = commandLine + \" -p\" + '\"' + Password + '\"'\n",
        "\n",
        "if Split != \"no\":\n",
        "    commandLine = commandLine + \" -v\" + '\"' + Split + '\"'\n",
        "\n",
        "if os.path.isfile(sourcePath):\n",
        "    sourceName = os.path.splitext(os.path.basename(os.path.abspath(sourcePath)))[0]\n",
        "    sourceFolder = os.path.dirname(os.path.abspath(sourcePath))\n",
        "else:\n",
        "    sourceName = os.path.split(os.path.abspath(sourcePath))[1]\n",
        "    sourceFolder = os.path.split(os.path.abspath(sourcePath))[0]\n",
        "\n",
        "if saveToSourceLocation:\n",
        "    compressPath = os.path.join(sourceFolder, \"compressed\")\n",
        "    commandLine = commandLine + ' \"' + compressPath + '\"'\n",
        "else:\n",
        "    outputPath = input(\"outputPath: \")\n",
        "    if outputPath.endswith('.zip') or outputPath.endswith('.7z') or outputPath.endswith('.tar') or outputPath.endswith('.gz') or outputPath.endswith('.bz2') or outputPath.endswith('.xz') or outputPath.endswith('.wim'):\n",
        "        sourceName = os.path.splitext(os.path.basename(os.path.abspath(outputPath)))[0]\n",
        "        sourceFolder = os.path.dirname(os.path.abspath(outputPath))\n",
        "    else:\n",
        "        if not os.path.exists(outputPath):\n",
        "            os.makedirs(outputPath)\n",
        "        sourceFolder = outputPath\n",
        "    compressPath = os.path.join(sourceFolder, \"compressed\")\n",
        "    commandLine = commandLine + ' \"' + compressPath + '\"'\n",
        "\n",
        "if compressType == \"gzip\":\n",
        "    formatFile = \"gz\"\n",
        "elif compressType == \"bzip2\":\n",
        "    formatFile = \"bz2\"\n",
        "else:\n",
        "    formatFile = compressType\n",
        "\n",
        "!7zz a {commandLine} \"{sourcePath}\"\n",
        "saveFile = os.path.join(sourceFolder, sourceName)\n",
        "compressPath = compressPath + '.' + formatFile\n",
        "saveFile = saveFile + '.' + formatFile\n",
        "os.rename(compressPath, saveFile)"
      ],
      "metadata": {
        "cellView": "form",
        "id": "CZpb7x3u_Ga_"
      },
      "execution_count": null,
      "outputs": []
    },
    {
      "cell_type": "markdown",
      "source": [
        "### __Uncompress Files__"
      ],
      "metadata": {
        "id": "nlKogMLD_J-P"
      }
    },
    {
      "cell_type": "markdown",
      "source": [
        "* To **list content** of the file, use `viewFile`. ***Uncheck this after viewing the content***.\n",
        "* Can also extract **splited** archives.\n",
        "* `saveToSourceLocation`: Extracts files to source location.\n",
        "* If you want to extract files from archive **without using directory names**, uncheck `directoryNames`.\n",
        "> * NOTE : ***Don't uncheck*** `directoryNames` at normal use.\n",
        ">\n",
        ">  ![directory_names](https://raw.githubusercontent.com/dropcreations/Essential-Google-Colab-Notebook/main/cell_logos/directory_names.png) ![without_directory_names](https://raw.githubusercontent.com/dropcreations/Essential-Google-Colab-Notebook/main/cell_logos/without_directory_names.png)\n",
        ">\n",
        "> * Without `directoryNames`, extracts files as **2nd figure**."
      ],
      "metadata": {
        "id": "LC6m2E49_S-g"
      }
    },
    {
      "cell_type": "code",
      "source": [
        "import os\n",
        "\n",
        "sourceFile = \"\" #@param {type:\"string\"}\n",
        "viewFile = False #@param {type:\"boolean\"}\n",
        "directoryNames = True #@param {type:\"boolean\"}\n",
        "saveToSourceLocation = True #@param {type:\"boolean\"}\n",
        "\n",
        "sourceName = os.path.splitext(os.path.basename(os.path.abspath(sourceFile)))[0]\n",
        "sourceFolder = os.path.dirname(os.path.abspath(sourceFile))\n",
        "\n",
        "if viewFile: commandLine = 'l \"' + sourceFile + '\"'\n",
        "else:\n",
        "    makeFolder = input(\"Do you want to create a folder to extract? [y/n] \")\n",
        "    if saveToSourceLocation:\n",
        "        if makeFolder.lower() == \"y\":\n",
        "            extractFolder = os.path.join(sourceFolder, sourceName)\n",
        "            if not os.path.exists(extractFolder):\n",
        "                os.makedirs(extractFolder, exist_ok=True)\n",
        "        elif makeFolder.lower() == \"n\":\n",
        "            extractFolder = sourceFolder\n",
        "    else:\n",
        "        outputPath = input(\"outputFolder: \")\n",
        "        if makeFolder.lower() == \"y\":\n",
        "            extractFolder = os.path.join(outputPath, sourceName)\n",
        "            if not os.path.exists(extractFolder):\n",
        "                os.makedirs(extractFolder, exist_ok=True)\n",
        "        elif makeFolder.lower() == \"n\":\n",
        "            extractFolder = outputPath\n",
        "    if directoryNames: commandLine = 'x \"' + sourceFile + '\" -o\"' + extractFolder + '\"'\n",
        "    else: commandLine = 'e \"' + sourceFile + '\" -o\"' + extractFolder + '\"'\n",
        "\n",
        "!7zz {commandLine}"
      ],
      "metadata": {
        "cellView": "form",
        "id": "FKScE5HP_Vsv"
      },
      "execution_count": null,
      "outputs": []
    }
  ]
}