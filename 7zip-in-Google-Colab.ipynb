{
  "nbformat": 4,
  "nbformat_minor": 0,
  "metadata": {
    "colab": {
      "name": "7zip in Google Colab.ipynb",
      "provenance": [],
      "collapsed_sections": [],
      "authorship_tag": "ABX9TyNcAtzTTgm6K0q92EfcJIKn",
      "include_colab_link": true
    },
    "kernelspec": {
      "name": "python3",
      "display_name": "Python 3"
    },
    "language_info": {
      "name": "python"
    }
  },
  "cells": [
    {
      "cell_type": "markdown",
      "metadata": {
        "id": "view-in-github",
        "colab_type": "text"
      },
      "source": [
        "<a href=\"https://colab.research.google.com/github/dropcreations/7zip-in-Google-Colab/blob/main/7zip-in-Google-Colab.ipynb\" target=\"_parent\"><img src=\"https://colab.research.google.com/assets/colab-badge.svg\" alt=\"Open In Colab\"/></a>"
      ]
    },
    {
      "cell_type": "markdown",
      "source": [
        "# __Mount Google Drive__"
      ],
      "metadata": {
        "id": "3y6fjbgkDAYK"
      }
    },
    {
      "cell_type": "code",
      "source": [
        "#@markdown <br><center><img src='https://upload.wikimedia.org/wikipedia/commons/thumb/d/da/Google_Drive_logo.png/600px-Google_Drive_logo.png' height=\"50\" alt=\"Gdrive-logo\"/></center>\n",
        "#@markdown <center><h3><b>Mount Google Drive</b></h3></center><br>\n",
        "MODE = \"MOUNT\" #@param [\"MOUNT\", \"UNMOUNT\"]\n",
        "#Mount your Gdrive! \n",
        "from google.colab import drive\n",
        "drive.mount._DEBUG = False\n",
        "if MODE == \"MOUNT\":\n",
        "  drive.mount('/content/drive', force_remount=True)\n",
        "elif MODE == \"UNMOUNT\":\n",
        "  try:\n",
        "    drive.flush_and_unmount()\n",
        "  except ValueError:\n",
        "    pass\n",
        "  get_ipython().system_raw(\"rm -rf /root/.config/Google/DriveFS\")"
      ],
      "metadata": {
        "cellView": "form",
        "id": "16mRq2bZDEzf"
      },
      "execution_count": null,
      "outputs": []
    },
    {
      "cell_type": "markdown",
      "source": [
        "# __7-Zip__"
      ],
      "metadata": {
        "id": "qjtmglI0-bmq"
      }
    },
    {
      "cell_type": "markdown",
      "source": [
        "* Run below cell to **Install 7-Zip** to the runtime"
      ],
      "metadata": {
        "id": "XXNVVoSP-gOx"
      }
    },
    {
      "cell_type": "code",
      "execution_count": null,
      "metadata": {
        "cellView": "form",
        "id": "IdV91t39-R4x"
      },
      "outputs": [],
      "source": [
        "#@markdown <br><center><img src='https://raw.githubusercontent.com/dropcreations/7zip-in-Google-Colab/main/7zip-Logo.png' height=\"50\" alt=\"7zip-logo\"/></center>\n",
        "#@markdown <center><h3><b>Install 7-Zip</b></h3></center><br>\n",
        "from IPython.display import clear_output\n",
        "!sudo apt update\n",
        "!sudo apt install p7zip-full p7zip-rar unrar rar\n",
        "clear_output()\n",
        "print(\"Successfully Installed.\")"
      ]
    },
    {
      "cell_type": "markdown",
      "source": [
        "### __Compress Files and Folders__"
      ],
      "metadata": {
        "id": "nYacWWj3-6_Y"
      }
    },
    {
      "cell_type": "markdown",
      "source": [
        "* Create **zip, tar, 7z, gz, bz2, xz, wim** files.\n",
        "* If you want you can add **password** or **split** the archive.\n",
        "* If you want to save archive in **another** location **uncheck**: \"Save_to_the_source_folder_location\"."
      ],
      "metadata": {
        "id": "kbpon-Z_-9c5"
      }
    },
    {
      "cell_type": "code",
      "source": [
        "import os\n",
        "\n",
        "Source = \"\" #@param {type:\"string\"}\n",
        "File_format = \"zip\" #@param [\"zip\", \"7z\", \"tar\", \"gzip\", \"bzip2\", \"xz\", \"wim\"]\n",
        "Password = \"\" #@param {type:\"string\"}\n",
        "Split = \"no\" #@param [\"no\", \"10m\", \"100m\", \"500m\", \"1g\", \"2g\"] {allow-input: true}\n",
        "Compress_level = 9 #@param {type:\"slider\", min:0, max:9, step:1}\n",
        "Save_to_the_source_location = True #@param {type:\"boolean\"}\n",
        "\n",
        "command_line = \"-t\" + File_format + \" -mx=\" + str(Compress_level)\n",
        "if os.path.isfile(Source) is True:\n",
        "    folder_name = os.path.dirname(os.path.abspath(Source))\n",
        "    folder_content, file_content = os.path.split(Source)\n",
        "    ext_list = file_content.split('.')\n",
        "    file_ext = ext_list[-1]\n",
        "    file_ext_w_dot = int(len(file_ext) + 1)\n",
        "    file_name = file_content[0:len(file_content) - file_ext_w_dot]\n",
        "else:\n",
        "    folder_content, file_name = os.path.split(Source)\n",
        "\n",
        "if Password == \"\":\n",
        "    command_line = command_line\n",
        "else:\n",
        "    command_line = command_line + \" -p\" + '\"' + Password + '\"'\n",
        "\n",
        "if Split == \"no\":\n",
        "    command_line = command_line\n",
        "else:\n",
        "    command_line = command_line + \" -v\" + '\"' + Split + '\"'\n",
        "\n",
        "if Save_to_the_source_location == True:\n",
        "    if os.path.isfile(Source) is True:\n",
        "        command_line = command_line + \" \" + '\"' + folder_name + \"/\" + file_name + '\"'\n",
        "    else:\n",
        "        command_line = command_line + \" \" + '\"' + Source + '\"'\n",
        "else:\n",
        "    output_path = input(\"Enter output path: \")\n",
        "    if output_path.endswith('zip') or output_path.endswith('7z') or output_path.endswith('tar') or output_path.endswith('gz') or output_path.endswith('bz2') or output_path.endswith('xz') or output_path.endswith('wim'):\n",
        "        folder_out, file_out = os.path.split(output_path)\n",
        "        ext_list = file_out.split('.')\n",
        "        file_ext = ext_list[-1]\n",
        "        file_ext_w_dot = int(len(file_ext) + 1)\n",
        "        file_name_out = file_out[0:len(file_out) - file_ext_w_dot]\n",
        "        command_line = command_line + \" \" + '\"' + folder_out + \"/\" + file_name_out + '\"'\n",
        "    else:\n",
        "        command_line = command_line + \" \" + '\"' + output_path + \"/\" + file_name + '\"'\n",
        "\n",
        "!7z a {command_line} \"{Source}\""
      ],
      "metadata": {
        "cellView": "form",
        "id": "CZpb7x3u_Ga_"
      },
      "execution_count": null,
      "outputs": []
    },
    {
      "cell_type": "markdown",
      "source": [
        "### __Uncompress Files__"
      ],
      "metadata": {
        "id": "nlKogMLD_J-P"
      }
    },
    {
      "cell_type": "markdown",
      "source": [
        "* To **list content** of the file, use `list_file`. ***Uncheck this after viewing the content***.\n",
        "* Can also extract **splited** archives.\n",
        "* If **Extract_folder is blank** archive will extract to the **archive's location**.\n",
        "* If you want to extract files from archive **without using directory names**, use `extract_without_directory_names`.\n",
        "> NOTE : **Don't use** `extract_without_directory_names` at normal use."
      ],
      "metadata": {
        "id": "LC6m2E49_S-g"
      }
    },
    {
      "cell_type": "code",
      "source": [
        "compressed_file = \"\" #@param {type:\"string\"}\n",
        "extract_folder = \"\" #@param {type:\"string\"}\n",
        "list_files = False #@param {type:\"boolean\"}\n",
        "extract_without_directory_names = False #@param {type:\"boolean\"}\n",
        "\n",
        "import os\n",
        "\n",
        "if extract_folder == \"\":\n",
        "  extract_folder = os.path.dirname(os.path.abspath(compressed_file))\n",
        "\n",
        "if list_files == True:\n",
        "  !7z l \"{compressed_file}\"\n",
        "else:\n",
        "  if extract_without_directory_names == True:\n",
        "      !7z e \"{compressed_file}\" -o\"{extract_folder}\"\n",
        "  else:\n",
        "      !7z x \"{compressed_file}\" -o\"{extract_folder}\""
      ],
      "metadata": {
        "cellView": "form",
        "id": "FKScE5HP_Vsv"
      },
      "execution_count": null,
      "outputs": []
    }
  ]
}