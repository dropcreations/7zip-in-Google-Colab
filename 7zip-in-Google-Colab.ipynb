{
  "nbformat": 4,
  "nbformat_minor": 0,
  "metadata": {
    "colab": {
      "name": "7zip in Google Colab.ipynb",
      "provenance": [],
      "collapsed_sections": [],
      "authorship_tag": "ABX9TyPbtGtrZ+p/4pmBcnNmozii",
      "include_colab_link": true
    },
    "kernelspec": {
      "name": "python3",
      "display_name": "Python 3"
    },
    "language_info": {
      "name": "python"
    }
  },
  "cells": [
    {
      "cell_type": "markdown",
      "metadata": {
        "id": "view-in-github",
        "colab_type": "text"
      },
      "source": [
        "<a href=\"https://colab.research.google.com/github/dropcreations/7zip-in-Google-Colab/blob/main/7zip-in-Google-Colab.ipynb\" target=\"_parent\"><img src=\"https://colab.research.google.com/assets/colab-badge.svg\" alt=\"Open In Colab\"/></a>"
      ]
    },
    {
      "cell_type": "markdown",
      "source": [
        "# __Mount Google Drive__"
      ],
      "metadata": {
        "id": "3y6fjbgkDAYK"
      }
    },
    {
      "cell_type": "code",
      "source": [
        "#@markdown <br><center><img src='https://upload.wikimedia.org/wikipedia/commons/thumb/d/da/Google_Drive_logo.png/600px-Google_Drive_logo.png' height=\"50\" alt=\"Gdrive-logo\"/></center>\n",
        "#@markdown <center><h3><b>Mount Google Drive</b></h3></center><br>\n",
        "MODE = \"MOUNT\" #@param [\"MOUNT\", \"UNMOUNT\"]\n",
        "#Mount your Gdrive! \n",
        "from google.colab import drive\n",
        "drive.mount._DEBUG = False\n",
        "if MODE == \"MOUNT\":\n",
        "  drive.mount('/content/drive', force_remount=True)\n",
        "elif MODE == \"UNMOUNT\":\n",
        "  try:\n",
        "    drive.flush_and_unmount()\n",
        "  except ValueError:\n",
        "    pass\n",
        "  get_ipython().system_raw(\"rm -rf /root/.config/Google/DriveFS\")"
      ],
      "metadata": {
        "cellView": "form",
        "id": "16mRq2bZDEzf"
      },
      "execution_count": null,
      "outputs": []
    },
    {
      "cell_type": "markdown",
      "source": [
        "# __7-Zip__"
      ],
      "metadata": {
        "id": "qjtmglI0-bmq"
      }
    },
    {
      "cell_type": "markdown",
      "source": [
        "* Run below cell to **Install 7-Zip** to the runtime"
      ],
      "metadata": {
        "id": "XXNVVoSP-gOx"
      }
    },
    {
      "cell_type": "code",
      "execution_count": null,
      "metadata": {
        "cellView": "form",
        "id": "IdV91t39-R4x"
      },
      "outputs": [],
      "source": [
        "#@markdown <br><center><img src='https://raw.githubusercontent.com/dropcreations/7zip-in-Google-Colab/main/7zip-Logo.png' height=\"50\" alt=\"7zip-logo\"/></center>\n",
        "#@markdown <center><h3><b>Install 7-Zip</b></h3></center><br>\n",
        "from IPython.display import clear_output\n",
        "!sudo apt update\n",
        "!sudo apt install p7zip-full p7zip-rar unrar rar\n",
        "clear_output()\n",
        "print(\"Successfully Installed.\")"
      ]
    },
    {
      "cell_type": "markdown",
      "source": [
        "### __Compress Files and Folders__"
      ],
      "metadata": {
        "id": "nYacWWj3-6_Y"
      }
    },
    {
      "cell_type": "markdown",
      "source": [
        "* Create a **zip file** from a **file**\n",
        "* Add **Source file path** and **Output file path**.\n",
        "* Don't need to add file **extention** in output file path, you can select it in **\"File_Type\"**."
      ],
      "metadata": {
        "id": "kbpon-Z_-9c5"
      }
    },
    {
      "cell_type": "code",
      "source": [
        "Source_File = \"\" #@param {type:\"string\"}\n",
        "Output_File = \"\" #@param {type:\"string\"}\n",
        "File_Type = \"zip\" #@param [\"zip\", \"7z\", \"tar\", \"gzip\", \"bzip2\", \"xz\", \"wim\"]\n",
        "\n",
        "!7z a -t{File_Type} \"{Output_File}\".zip \"{Source_File}\""
      ],
      "metadata": {
        "cellView": "form",
        "id": "sRLb6kjI-_oR"
      },
      "execution_count": null,
      "outputs": []
    },
    {
      "cell_type": "markdown",
      "source": [
        "* Create a **zip, tar, 7z** file from a **folder**.\n",
        "* If you want you can add **password** or **split** the archive.\n",
        "* If you want to save archive in **another** location **uncheck** \"Save_to_the_source_folder_location\"."
      ],
      "metadata": {
        "id": "efE2IxDW_C6_"
      }
    },
    {
      "cell_type": "code",
      "source": [
        "import os, sys, re\n",
        "\n",
        "Source_Folder = \"\" #@param {type:\"string\"}\n",
        "File_format = \"zip\" #@param [\"zip\", \"7z\", \"tar\"]\n",
        "Password = \"\" #@param {type:\"string\"}\n",
        "Split = \"no\" #@param [\"no\", \"10m\", \"100m\", \"500m\", \"1g\", \"2g\"] {allow-input: true}\n",
        "Compress_level = \"9\" #@param [\"0\", \"1\", \"2\", \"3\", \"4\", \"5\", \"6\", \"7\", \"8\", \"9\"]\n",
        "Save_to_the_source_folder_location = True #@param {type:\"boolean\"}\n",
        "\n",
        "output_file_path = re.search(\"^[\\/].+\\/\", Source_Folder)\n",
        "output_file_path_raw = output_file_path.group(0)\n",
        "delsplit = re.search(\"\\/(?:.(?!\\/))+$\", Source_Folder)\n",
        "folder_name = re.sub(\"^[\\/]\", \"\", delsplit.group(0))\n",
        "\n",
        "os.environ['inputDir'] = Source_Folder\n",
        "os.environ['outputPath'] = output_file_path_raw\n",
        "os.environ['folderName'] = folder_name\n",
        "os.environ['fileType'] = File_format\n",
        "os.environ['passADD'] = Password\n",
        "os.environ['splitVOL'] = Split\n",
        "os.environ['level'] = Compress_level\n",
        "\n",
        "if Save_to_the_source_folder_location == True:\n",
        "    if Split == \"no\":\n",
        "      if Password == \"\":\n",
        "        !7z a -t$fileType -mx=\"$level\" \"$outputPath\"/\"$folderName\" \"$inputDir\"\n",
        "      else:\n",
        "        !7z a -t$fileType -p\"$passADD\" -mx=\"$level\" \"$outputPath\"/\"$folderName\" \"$inputDir\"\n",
        "    else:\n",
        "      if Password == \"\":\n",
        "        !7z a -t$fileType -mx=\"$level\" -v\"$splitVOL\" \"$outputPath\"/\"$folderName\" \"$inputDir\"\n",
        "      else:\n",
        "        !7z a -t$fileType -p\"$passADD\" -mx=\"$level\" -v\"$splitVOL\" \"$outputPath\"/\"$folderName\" \"$inputDir\"\n",
        "else:\n",
        "    Output_folder = input(\"Enter output folder path: \")\n",
        "    os.environ['outFolder'] = Output_folder\n",
        "    if Split == \"no\":\n",
        "      if Password == \"\":\n",
        "        !7z a -t$fileType -mx=\"$level\" \"$outFolder\"/\"$folderName\" \"$inputDir\"\n",
        "      else:\n",
        "        !7z a -t$fileType -p\"$passADD\" -mx=\"$level\" \"$outFolder\"/\"$folderName\" \"$inputDir\"\n",
        "    else:\n",
        "      if Password == \"\":\n",
        "        !7z a -t$fileType -mx=\"$level\" -v\"$splitVOL\" \"$outFolder\"/\"$folderName\" \"$inputDir\"\n",
        "      else:\n",
        "        !7z a -t$fileType -p\"$passADD\" -mx=\"$level\" -v\"$splitVOL\" \"$outFolder\"/\"$folderName\" \"$inputDir\""
      ],
      "metadata": {
        "cellView": "form",
        "id": "CZpb7x3u_Ga_"
      },
      "execution_count": null,
      "outputs": []
    },
    {
      "cell_type": "markdown",
      "source": [
        "### __Uncompress Files__"
      ],
      "metadata": {
        "id": "nlKogMLD_J-P"
      }
    },
    {
      "cell_type": "markdown",
      "source": [
        "* Run below cell to **list content** of archive."
      ],
      "metadata": {
        "id": "GnQeK9Bv_Mff"
      }
    },
    {
      "cell_type": "code",
      "source": [
        "File_Path = \"\" #@param {type:\"string\"}\n",
        "!7z l \"{File_Path}\""
      ],
      "metadata": {
        "cellView": "form",
        "id": "rnjDHnho_O6K"
      },
      "execution_count": null,
      "outputs": []
    },
    {
      "cell_type": "markdown",
      "source": [
        "* Can also extract **splited** archives.\n",
        "* Type **archive file path** and **extract folder path** to extract file.\n",
        "* If you want to extract files from archive **without using directory names**, check below.\n",
        "* NOTE : **Don't check** below at normal use."
      ],
      "metadata": {
        "id": "LC6m2E49_S-g"
      }
    },
    {
      "cell_type": "code",
      "source": [
        "File_Path = \"\" #@param {type:\"string\"}\n",
        "Extract_Folder = \"\" #@param {type:\"string\"}\n",
        "extract_without_directory_names = False #@param {type:\"boolean\"}\n",
        "\n",
        "import os, sys, re\n",
        "\n",
        "os.environ['inputFile'] = File_Path\n",
        "os.environ['outputFile'] = Extract_Folder\n",
        "\n",
        "if extract_without_directory_names == False:\n",
        "    !7z e \"$inputFile\" -spf -o\"$outputFile\"\n",
        "else:\n",
        "    !7z e \"$inputFile\" -o\"$outputFile\""
      ],
      "metadata": {
        "cellView": "form",
        "id": "FKScE5HP_Vsv"
      },
      "execution_count": null,
      "outputs": []
    }
  ]
}